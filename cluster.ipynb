{
 "cells": [
  {
   "cell_type": "code",
   "execution_count": 2,
   "metadata": {},
   "outputs": [],
   "source": [
    "import torch\n",
    "import models\n",
    "from pathlib import Path\n",
    "from torchvision.datasets.cifar import CIFAR10\n",
    "from torch.utils.data import DataLoader, Subset\n",
    "from torchvision.transforms import ToTensor, ToPILImage\n",
    "from tqdm import tqdm\n",
    "import random\n",
    "from matplotlib import pyplot as plt\n",
    "import numpy as np"
   ]
  },
  {
   "cell_type": "code",
   "execution_count": 3,
   "metadata": {},
   "outputs": [
    {
     "name": "stdout",
     "output_type": "stream",
     "text": [
      "cpu\n"
     ]
    }
   ],
   "source": [
    "device = torch.device('cuda' if torch.cuda.is_available() else 'cpu')\n",
    "\n",
    "print(device)\n",
    "\n",
    "batch_size = 64"
   ]
  },
  {
   "cell_type": "code",
   "execution_count": null,
   "metadata": {},
   "outputs": [],
   "source": [
    "cifar_10_train_dt = CIFAR10(r'data', download=False, transform=ToTensor())\n",
    "#dev = Subset(cifar_10_train_dt, range(128))\n",
    "cifar_10_train_l = DataLoader(cifar_10_train_dt, batch_size=batch_size, shuffle=True, drop_last=True,\n",
    "                              pin_memory=torch.cuda.is_available())"
   ]
  },
  {
   "cell_type": "code",
   "execution_count": null,
   "metadata": {},
   "outputs": [],
   "source": [
    "epoch = 200\n",
    "root = Path(r'models')\n",
    "model_path = root / Path(r'encoder' + str(epoch)+ \".wgt\")\n",
    "\n",
    "encoder = models.Encoder()\n",
    "encoder.load_state_dict(torch.load(str(model_path)))\n",
    "encoder.to(device)"
   ]
  },
  {
   "cell_type": "code",
   "execution_count": null,
   "metadata": {},
   "outputs": [],
   "source": [
    "minibatches = []\n",
    "batch = tqdm(cifar_10_train_l, total=len(cifar_10_train_dt) // batch_size)\n",
    "for images, target in batch:\n",
    "    images = images.to(device)\n",
    "    encoded, features = encoder(images)\n",
    "    i = images.detach().cpu().unbind(0)\n",
    "    e = encoded.detach().cpu().unbind(0)\n",
    "    sublist = [elem for elem in zip(e, i)]\n",
    "    minibatches.append(sublist)"
   ]
  },
  {
   "cell_type": "code",
   "execution_count": null,
   "metadata": {},
   "outputs": [],
   "source": [
    "# flatten the minibatches to a single list\n",
    "ordered = []\n",
    "for minibatch in minibatches:\n",
    "    while minibatch:\n",
    "        ordered.append(minibatch.pop())"
   ]
  },
  {
   "cell_type": "code",
   "execution_count": null,
   "metadata": {},
   "outputs": [],
   "source": [
    "def display(subject, ordered):\n",
    "\n",
    "    def l1_dist(x, y):\n",
    "        return torch.sum(x - y).item()\n",
    "\n",
    "    def l2_dist(x, y):\n",
    "        from math import sqrt\n",
    "        return sqrt(torch.sum((x - y) ** 2).item())\n",
    "\n",
    "    # sort by distance to the subject\n",
    "    ordered = sorted(ordered, key=lambda elem: l2_dist(subject[0], elem[0]))\n",
    "\n",
    "    subject_repeated = [subject for _ in range(10)]\n",
    "    nearest_10_images = ordered[:10]\n",
    "    farthest_10_images = ordered[-10:]\n",
    "\n",
    "    def make_panel(list_of_images):\n",
    "        images = [image[1] for image in list_of_images]\n",
    "        panel = torch.cat(images, dim=2)\n",
    "        panel_pil = ToPILImage().__call__(panel)\n",
    "        return panel_pil\n",
    "\n",
    "    panel_of_subject = make_panel(subject_repeated)\n",
    "    panel_of_nearest_10 = make_panel(nearest_10_images)\n",
    "    panel_of_farthest_10 = make_panel(farthest_10_images)\n",
    "\n",
    "    _img = np.concatenate((panel_of_subject, panel_of_nearest_10, panel_of_farthest_10), axis=0)\n",
    "\n",
    "    plt.imshow(_img)\n",
    "    plt.show()"
   ]
  },
  {
   "cell_type": "code",
   "execution_count": null,
   "metadata": {},
   "outputs": [],
   "source": [
    "while True:\n",
    "    # pick a random image\n",
    "    subject = ordered[random.randrange(0, len(ordered))]\n",
    "    display(subject, ordered)"
   ]
  }
 ],
 "metadata": {
  "kernelspec": {
   "display_name": "Python 3",
   "language": "python",
   "name": "python3"
  },
  "language_info": {
   "codemirror_mode": {
    "name": "ipython",
    "version": 3
   },
   "file_extension": ".py",
   "mimetype": "text/x-python",
   "name": "python",
   "nbconvert_exporter": "python",
   "pygments_lexer": "ipython3",
   "version": "3.7.0"
  }
 },
 "nbformat": 4,
 "nbformat_minor": 2
}
